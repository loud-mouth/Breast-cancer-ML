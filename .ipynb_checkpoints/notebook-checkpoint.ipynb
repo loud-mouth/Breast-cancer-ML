{
 "cells": [
  {
   "cell_type": "code",
   "execution_count": 1,
   "metadata": {},
   "outputs": [],
   "source": [
    "import pandas as pd"
   ]
  },
  {
   "cell_type": "code",
   "execution_count": 2,
   "metadata": {},
   "outputs": [],
   "source": [
    "df = pd.read_csv('breast-cancer.csv')"
   ]
  },
  {
   "cell_type": "code",
   "execution_count": 3,
   "metadata": {},
   "outputs": [
    {
     "name": "stdout",
     "output_type": "stream",
     "text": [
      "(285, 10)\n"
     ]
    }
   ],
   "source": [
    "print(df.shape)"
   ]
  },
  {
   "cell_type": "code",
   "execution_count": 4,
   "metadata": {},
   "outputs": [
    {
     "name": "stdout",
     "output_type": "stream",
     "text": [
      "<bound method NDFrame.head of      no-recurrence-events  30-39  premeno  30-34     0-2  no  3   left  \\\n",
      "0    no-recurrence-events  40-49  premeno  20-24     0-2  no  2  right   \n",
      "1    no-recurrence-events  40-49  premeno  20-24     0-2  no  2   left   \n",
      "2    no-recurrence-events  60-69     ge40  15-19     0-2  no  2  right   \n",
      "3    no-recurrence-events  40-49  premeno    0-4     0-2  no  2  right   \n",
      "4    no-recurrence-events  60-69     ge40  15-19     0-2  no  2   left   \n",
      "..                    ...    ...      ...    ...     ...  .. ..    ...   \n",
      "280     recurrence-events  30-39  premeno  30-34     0-2  no  2   left   \n",
      "281     recurrence-events  30-39  premeno  20-24     0-2  no  3   left   \n",
      "282     recurrence-events  60-69     ge40  20-24     0-2  no  1  right   \n",
      "283     recurrence-events  40-49     ge40  30-34  03-May  no  3   left   \n",
      "284     recurrence-events  50-59     ge40  30-34  03-May  no  3   left   \n",
      "\n",
      "      left_low no.1  \n",
      "0     right_up   no  \n",
      "1     left_low   no  \n",
      "2      left_up   no  \n",
      "3    right_low   no  \n",
      "4     left_low   no  \n",
      "..         ...  ...  \n",
      "280    left_up   no  \n",
      "281    left_up  yes  \n",
      "282    left_up   no  \n",
      "283   left_low   no  \n",
      "284   left_low   no  \n",
      "\n",
      "[285 rows x 10 columns]>\n"
     ]
    }
   ],
   "source": [
    "print(df.head)"
   ]
  },
  {
   "cell_type": "code",
   "execution_count": null,
   "metadata": {},
   "outputs": [],
   "source": []
  }
 ],
 "metadata": {
  "kernelspec": {
   "display_name": "Python 3",
   "language": "python",
   "name": "python3"
  },
  "language_info": {
   "codemirror_mode": {
    "name": "ipython",
    "version": 3
   },
   "file_extension": ".py",
   "mimetype": "text/x-python",
   "name": "python",
   "nbconvert_exporter": "python",
   "pygments_lexer": "ipython3",
   "version": "3.7.6"
  }
 },
 "nbformat": 4,
 "nbformat_minor": 4
}
