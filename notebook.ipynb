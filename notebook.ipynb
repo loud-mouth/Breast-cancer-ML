{
 "cells": [
  {
   "cell_type": "markdown",
   "metadata": {},
   "source": [
    "# Breast Cancer Recurrence Detection"
   ]
  },
  {
   "cell_type": "markdown",
   "metadata": {},
   "source": [
    "- Number of Instances: 286\n",
    "\n",
    "- Number of Attributes: 9 + the class attribute\n",
    "\n",
    "- Attribute Information:\n",
    "   1. Class: no-recurrence-events, recurrence-events\n",
    "   2. age: 10-19, 20-29, 30-39, 40-49, 50-59, 60-69, 70-79, 80-89, 90-99.\n",
    "   3. menopause: lt40, ge40, premeno.\n",
    "   4. tumor-size: 0-4, 5-9, 10-14, 15-19, 20-24, 25-29, 30-34, 35-39, 40-44,\n",
    "                  45-49, 50-54, 55-59.\n",
    "   5. inv-nodes: 0-2, 3-5, 6-8, 9-11, 12-14, 15-17, 18-20, 21-23, 24-26,\n",
    "                 27-29, 30-32, 33-35, 36-39.\n",
    "   6. node-caps: yes, no.\n",
    "   7. deg-malig: 1, 2, 3.\n",
    "   8. breast: left, right.\n",
    "   9. breast-quad: left-up, left-low, right-up,\tright-low, central.\n",
    "  10. irradiat:\tyes, no.\n",
    "\n",
    "- Missing Attribute Values: (denoted by \"?\")\n",
    "   Attribute #:  Number of instances with missing values:\n",
    "   6.             8\n",
    "   9.             1.\n",
    "\n",
    "- Class Distribution:\n",
    "    1. no-recurrence-events: 201 instances\n",
    "    2. recurrence-events: 85 instances"
   ]
  },
  {
   "cell_type": "code",
   "execution_count": 69,
   "metadata": {},
   "outputs": [],
   "source": [
    "import pandas as pd\n",
    "from collections import Counter\n",
    "from sklearn.datasets import make_classification\n",
    "from imblearn.over_sampling import SMOTE\n",
    "from numpy import where\n",
    "import seaborn as sns\n",
    "import matplotlib.pyplot as plt\n",
    "import numpy as np\n",
    "from sklearn.model_selection import train_test_split\n",
    "from sklearn.neural_network import MLPClassifier\n",
    "from sklearn import metrics\n",
    "from sklearn.preprocessing import MinMaxScaler\n",
    "from sklearn.exceptions import ConvergenceWarning\n",
    "\n",
    "from scipy import interpolate\n",
    "import warnings"
   ]
  },
  {
   "cell_type": "code",
   "execution_count": 70,
   "metadata": {},
   "outputs": [
    {
     "name": "stdout",
     "output_type": "stream",
     "text": [
      "no-recurrence-events    201\n",
      "recurrence-events        85\n",
      "Name: Classes, dtype: int64\n",
      "50-59    96\n",
      "40-49    90\n",
      "60-69    57\n",
      "30-39    36\n",
      "70-79     6\n",
      "20-29     1\n",
      "Name: average-age, dtype: int64\n",
      "premeno    150\n",
      "ge40       129\n",
      "lt40         7\n",
      "Name: menopausal-state, dtype: int64\n",
      "30-34     60\n",
      "25-29     54\n",
      "20-24     50\n",
      "15-19     30\n",
      "Oct-14    28\n",
      "40-44     22\n",
      "35-39     19\n",
      "50-54      8\n",
      "0-4        8\n",
      "05-Sep     4\n",
      "45-49      3\n",
      "Name: tumor-size, dtype: int64\n",
      "0-2       213\n",
      "03-May     36\n",
      "06-Aug     17\n",
      "09-Nov     10\n",
      "15-17       6\n",
      "Dec-14      3\n",
      "24-26       1\n",
      "Name: average-inv-nodes, dtype: int64\n",
      "no     222\n",
      "yes     56\n",
      "?        8\n",
      "Name: node-caps, dtype: int64\n",
      "2    130\n",
      "3     85\n",
      "1     71\n",
      "Name: deg-malig, dtype: int64\n",
      "left     152\n",
      "right    134\n",
      "Name: breast, dtype: int64\n",
      "left_low     110\n",
      "left_up       97\n",
      "right_up      33\n",
      "right_low     24\n",
      "central       21\n",
      "?              1\n",
      "Name: breast-quad, dtype: int64\n",
      "no     218\n",
      "yes     68\n",
      "Name: irradiate, dtype: int64\n"
     ]
    }
   ],
   "source": [
    "df = pd.read_csv('breast-cancer.csv', names=['Classes', 'average-age', 'menopausal-state', 'tumor-size', 'average-inv-nodes', 'node-caps', 'deg-malig', 'breast', 'breast-quad', 'irradiate'], index_col=False)\n",
    "for c_name in df.columns:\n",
    "    print(df[c_name].value_counts())"
   ]
  },
  {
   "cell_type": "markdown",
   "metadata": {},
   "source": [
    "#### Fixing corrupted data"
   ]
  },
  {
   "cell_type": "code",
   "execution_count": 71,
   "metadata": {},
   "outputs": [],
   "source": [
    "df['tumor-size'].replace({'Oct-14' : '10-14', '05-Sep':'5-9'}, inplace=True)\n",
    "df['average-inv-nodes'].replace({'03-May':'3-5', '06-Aug':'6-10', '09-Nov':'9-11', 'Dec-14':'10-14'}, inplace=True)"
   ]
  },
  {
   "cell_type": "code",
   "execution_count": 72,
   "metadata": {},
   "outputs": [
    {
     "name": "stdout",
     "output_type": "stream",
     "text": [
      "no     222\n",
      "yes     56\n",
      "?        8\n",
      "Name: node-caps, dtype: int64\n",
      "left_low     106\n",
      "left_up       94\n",
      "right_up      33\n",
      "right_low     23\n",
      "central       21\n",
      "?              1\n",
      "Name: breast-quad, dtype: int64\n"
     ]
    }
   ],
   "source": [
    "for column in ['node-caps', 'breast-quad']:\n",
    "    filt = (df[column] == '?')\n",
    "    print(df[column].value_counts())\n",
    "    df.drop(index=df[filt].index, inplace=True)"
   ]
  },
  {
   "cell_type": "code",
   "execution_count": 73,
   "metadata": {},
   "outputs": [
    {
     "data": {
      "text/html": [
       "<div>\n",
       "<style scoped>\n",
       "    .dataframe tbody tr th:only-of-type {\n",
       "        vertical-align: middle;\n",
       "    }\n",
       "\n",
       "    .dataframe tbody tr th {\n",
       "        vertical-align: top;\n",
       "    }\n",
       "\n",
       "    .dataframe thead th {\n",
       "        text-align: right;\n",
       "    }\n",
       "</style>\n",
       "<table border=\"1\" class=\"dataframe\">\n",
       "  <thead>\n",
       "    <tr style=\"text-align: right;\">\n",
       "      <th></th>\n",
       "      <th>Classes</th>\n",
       "      <th>average-age</th>\n",
       "      <th>menopausal-state</th>\n",
       "      <th>tumor-size</th>\n",
       "      <th>average-inv-nodes</th>\n",
       "      <th>node-caps</th>\n",
       "      <th>deg-malig</th>\n",
       "      <th>breast</th>\n",
       "      <th>breast-quad</th>\n",
       "      <th>irradiate</th>\n",
       "    </tr>\n",
       "  </thead>\n",
       "  <tbody>\n",
       "    <tr>\n",
       "      <th>0</th>\n",
       "      <td>no-recurrence-events</td>\n",
       "      <td>30-39</td>\n",
       "      <td>premeno</td>\n",
       "      <td>30-34</td>\n",
       "      <td>0-2</td>\n",
       "      <td>no</td>\n",
       "      <td>3</td>\n",
       "      <td>left</td>\n",
       "      <td>left_low</td>\n",
       "      <td>no</td>\n",
       "    </tr>\n",
       "    <tr>\n",
       "      <th>1</th>\n",
       "      <td>no-recurrence-events</td>\n",
       "      <td>40-49</td>\n",
       "      <td>premeno</td>\n",
       "      <td>20-24</td>\n",
       "      <td>0-2</td>\n",
       "      <td>no</td>\n",
       "      <td>2</td>\n",
       "      <td>right</td>\n",
       "      <td>right_up</td>\n",
       "      <td>no</td>\n",
       "    </tr>\n",
       "    <tr>\n",
       "      <th>2</th>\n",
       "      <td>no-recurrence-events</td>\n",
       "      <td>40-49</td>\n",
       "      <td>premeno</td>\n",
       "      <td>20-24</td>\n",
       "      <td>0-2</td>\n",
       "      <td>no</td>\n",
       "      <td>2</td>\n",
       "      <td>left</td>\n",
       "      <td>left_low</td>\n",
       "      <td>no</td>\n",
       "    </tr>\n",
       "    <tr>\n",
       "      <th>3</th>\n",
       "      <td>no-recurrence-events</td>\n",
       "      <td>60-69</td>\n",
       "      <td>ge40</td>\n",
       "      <td>15-19</td>\n",
       "      <td>0-2</td>\n",
       "      <td>no</td>\n",
       "      <td>2</td>\n",
       "      <td>right</td>\n",
       "      <td>left_up</td>\n",
       "      <td>no</td>\n",
       "    </tr>\n",
       "    <tr>\n",
       "      <th>4</th>\n",
       "      <td>no-recurrence-events</td>\n",
       "      <td>40-49</td>\n",
       "      <td>premeno</td>\n",
       "      <td>0-4</td>\n",
       "      <td>0-2</td>\n",
       "      <td>no</td>\n",
       "      <td>2</td>\n",
       "      <td>right</td>\n",
       "      <td>right_low</td>\n",
       "      <td>no</td>\n",
       "    </tr>\n",
       "  </tbody>\n",
       "</table>\n",
       "</div>"
      ],
      "text/plain": [
       "                Classes average-age menopausal-state tumor-size  \\\n",
       "0  no-recurrence-events       30-39          premeno      30-34   \n",
       "1  no-recurrence-events       40-49          premeno      20-24   \n",
       "2  no-recurrence-events       40-49          premeno      20-24   \n",
       "3  no-recurrence-events       60-69             ge40      15-19   \n",
       "4  no-recurrence-events       40-49          premeno        0-4   \n",
       "\n",
       "  average-inv-nodes node-caps  deg-malig breast breast-quad irradiate  \n",
       "0               0-2        no          3   left    left_low        no  \n",
       "1               0-2        no          2  right    right_up        no  \n",
       "2               0-2        no          2   left    left_low        no  \n",
       "3               0-2        no          2  right     left_up        no  \n",
       "4               0-2        no          2  right   right_low        no  "
      ]
     },
     "execution_count": 73,
     "metadata": {},
     "output_type": "execute_result"
    }
   ],
   "source": [
    "df.head()"
   ]
  },
  {
   "cell_type": "markdown",
   "metadata": {},
   "source": [
    "#### Visualising The Dataset"
   ]
  },
  {
   "cell_type": "code",
   "execution_count": 74,
   "metadata": {},
   "outputs": [
    {
     "name": "stdout",
     "output_type": "stream",
     "text": [
      "                  Classes average-age menopausal-state tumor-size  \\\n",
      "0    no-recurrence-events       30-39          premeno      30-34   \n",
      "1    no-recurrence-events       40-49          premeno      20-24   \n",
      "2    no-recurrence-events       40-49          premeno      20-24   \n",
      "3    no-recurrence-events       60-69             ge40      15-19   \n",
      "4    no-recurrence-events       40-49          premeno        0-4   \n",
      "..                    ...         ...              ...        ...   \n",
      "281     recurrence-events       30-39          premeno      30-34   \n",
      "282     recurrence-events       30-39          premeno      20-24   \n",
      "283     recurrence-events       60-69             ge40      20-24   \n",
      "284     recurrence-events       40-49             ge40      30-34   \n",
      "285     recurrence-events       50-59             ge40      30-34   \n",
      "\n",
      "    average-inv-nodes node-caps  deg-malig breast breast-quad irradiate  \n",
      "0                 0-2        no          3   left    left_low        no  \n",
      "1                 0-2        no          2  right    right_up        no  \n",
      "2                 0-2        no          2   left    left_low        no  \n",
      "3                 0-2        no          2  right     left_up        no  \n",
      "4                 0-2        no          2  right   right_low        no  \n",
      "..                ...       ...        ...    ...         ...       ...  \n",
      "281               0-2        no          2   left     left_up        no  \n",
      "282               0-2        no          3   left     left_up       yes  \n",
      "283               0-2        no          1  right     left_up        no  \n",
      "284               3-5        no          3   left    left_low        no  \n",
      "285               3-5        no          3   left    left_low        no  \n",
      "\n",
      "[277 rows x 10 columns]\n"
     ]
    }
   ],
   "source": [
    "print(df)"
   ]
  },
  {
   "cell_type": "markdown",
   "metadata": {},
   "source": [
    "#### Replacing ranges with values that can be fed into the nueral networks"
   ]
  },
  {
   "cell_type": "code",
   "execution_count": 75,
   "metadata": {},
   "outputs": [],
   "source": [
    "df['Classes'].replace({'recurrence-events' : 1, 'no-recurrence-events' : 0}, inplace=True)\n",
    "df['menopausal-state'].replace({'premeno': 0, 'ge40':1, 'lt40':2}, inplace=True)\n",
    "df['node-caps'].replace({'no':0, 'yes':1}, inplace=True)\n",
    "df['breast'].replace({'left':0, 'right':1}, inplace=True)\n",
    "df['breast-quad'].replace({'left_low':0, 'left_up':1, 'right_low':2, 'right_up':3, 'central':4}, inplace=True)\n",
    "df['irradiate'].replace({'no':0, 'yes':1}, inplace=True)"
   ]
  },
  {
   "cell_type": "code",
   "execution_count": 76,
   "metadata": {},
   "outputs": [],
   "source": [
    "def avg(s):\n",
    "    i, j = map(int, s.split('-'))\n",
    "    return (i+j)/2\n",
    "for k in ['average-age', 'tumor-size', 'average-inv-nodes']:\n",
    "    df[k] = df[k].apply(avg)"
   ]
  },
  {
   "cell_type": "code",
   "execution_count": 77,
   "metadata": {},
   "outputs": [
    {
     "name": "stdout",
     "output_type": "stream",
     "text": [
      "0    196\n",
      "1     81\n",
      "Name: Classes, dtype: int64\n",
      "54.5    91\n",
      "44.5    89\n",
      "64.5    55\n",
      "34.5    36\n",
      "74.5     5\n",
      "24.5     1\n",
      "Name: average-age, dtype: int64\n",
      "0    149\n",
      "1    123\n",
      "2      5\n",
      "Name: menopausal-state, dtype: int64\n",
      "32.0    57\n",
      "27.0    51\n",
      "22.0    48\n",
      "17.0    29\n",
      "12.0    28\n",
      "42.0    22\n",
      "37.0    19\n",
      "52.0     8\n",
      "2.0      8\n",
      "7.0      4\n",
      "47.0     3\n",
      "Name: tumor-size, dtype: int64\n",
      "1.0     209\n",
      "4.0      34\n",
      "8.0      17\n",
      "10.0      7\n",
      "16.0      6\n",
      "12.0      3\n",
      "25.0      1\n",
      "Name: average-inv-nodes, dtype: int64\n",
      "0    221\n",
      "1     56\n",
      "Name: node-caps, dtype: int64\n",
      "2    129\n",
      "3     82\n",
      "1     66\n",
      "Name: deg-malig, dtype: int64\n",
      "0    145\n",
      "1    132\n",
      "Name: breast, dtype: int64\n",
      "0    106\n",
      "1     94\n",
      "3     33\n",
      "2     23\n",
      "4     21\n",
      "Name: breast-quad, dtype: int64\n",
      "0    215\n",
      "1     62\n",
      "Name: irradiate, dtype: int64\n"
     ]
    }
   ],
   "source": [
    "for c_name in df.columns:\n",
    "    print(df[c_name].value_counts())"
   ]
  },
  {
   "cell_type": "code",
   "execution_count": 78,
   "metadata": {},
   "outputs": [],
   "source": [
    "for i in range(len(df.columns)):\n",
    "    for j in range(1):\n",
    "        if(df.columns[i]=='Classes' or df.columns[j]=='Classes'):\n",
    "            continue\n",
    "        sns.displot(df, x=df.columns[i], y=df.columns[j], hue=\"Classes\")"
   ]
  },
  {
   "cell_type": "code",
   "execution_count": 79,
   "metadata": {},
   "outputs": [
    {
     "name": "stdout",
     "output_type": "stream",
     "text": [
      "     average-age  menopausal-state  tumor-size  average-inv-nodes  node-caps  \\\n",
      "0           34.5                 0        32.0                1.0          0   \n",
      "1           44.5                 0        22.0                1.0          0   \n",
      "2           44.5                 0        22.0                1.0          0   \n",
      "3           64.5                 1        17.0                1.0          0   \n",
      "4           44.5                 0         2.0                1.0          0   \n",
      "..           ...               ...         ...                ...        ...   \n",
      "281         34.5                 0        32.0                1.0          0   \n",
      "282         34.5                 0        22.0                1.0          0   \n",
      "283         64.5                 1        22.0                1.0          0   \n",
      "284         44.5                 1        32.0                4.0          0   \n",
      "285         54.5                 1        32.0                4.0          0   \n",
      "\n",
      "     deg-malig  breast  breast-quad  irradiate  \n",
      "0            3       0            0          0  \n",
      "1            2       1            3          0  \n",
      "2            2       0            0          0  \n",
      "3            2       1            1          0  \n",
      "4            2       1            2          0  \n",
      "..         ...     ...          ...        ...  \n",
      "281          2       0            1          0  \n",
      "282          3       0            1          1  \n",
      "283          1       1            1          0  \n",
      "284          3       0            0          0  \n",
      "285          3       0            0          0  \n",
      "\n",
      "[277 rows x 9 columns]\n",
      "     Classes\n",
      "0          0\n",
      "1          0\n",
      "2          0\n",
      "3          0\n",
      "4          0\n",
      "..       ...\n",
      "281        1\n",
      "282        1\n",
      "283        1\n",
      "284        1\n",
      "285        1\n",
      "\n",
      "[277 rows x 1 columns]\n"
     ]
    }
   ],
   "source": [
    "X=df[['average-age', 'menopausal-state', 'tumor-size', 'average-inv-nodes', 'node-caps', 'deg-malig', 'breast', 'breast-quad', 'irradiate']]\n",
    "Y=df[['Classes']]\n",
    "print(X)\n",
    "print(Y)"
   ]
  },
  {
   "cell_type": "code",
   "execution_count": 80,
   "metadata": {},
   "outputs": [
    {
     "name": "stdout",
     "output_type": "stream",
     "text": [
      "(277, 1)\n",
      "0    196\n",
      "1     81\n",
      "Name: Classes, dtype: int64\n",
      "(392, 1)\n",
      "1    196\n",
      "0    196\n",
      "Name: Classes, dtype: int64\n",
      "(392, 10)\n"
     ]
    }
   ],
   "source": [
    "print(Y.shape)\n",
    "print(Y['Classes'].value_counts())\n",
    "# transform the dataset\n",
    "oversample = SMOTE()\n",
    "X, Y = oversample.fit_resample(X, Y)\n",
    "# summarize the new class distribution\n",
    "print(Y.shape)\n",
    "# scatter plot of examples by class label\n",
    "print(Y['Classes'].value_counts())\n",
    "df=X.join(Y)\n",
    "print(df.shape)\n",
    "df.sort_values(by=['Classes'],inplace=True)\n",
    "X=df[['average-age', 'menopausal-state', 'tumor-size', 'average-inv-nodes', 'node-caps', 'deg-malig', 'breast', 'breast-quad', 'irradiate']]\n",
    "Y=df[['Classes']]"
   ]
  },
  {
   "cell_type": "code",
   "execution_count": 81,
   "metadata": {},
   "outputs": [
    {
     "name": "stdout",
     "output_type": "stream",
     "text": [
      "(196, 9) (196, 9) (196, 1) (196, 1)\n",
      "     Classes\n",
      "0          0\n",
      "125        0\n",
      "126        0\n",
      "127        0\n",
      "128        0\n",
      "129        0\n",
      "130        0\n",
      "131        0\n",
      "132        0\n",
      "133        0\n",
      "     Classes\n",
      "328        1\n",
      "321        1\n",
      "322        1\n",
      "323        1\n",
      "324        1\n",
      "325        1\n",
      "320        1\n",
      "326        1\n",
      "327        1\n",
      "329        1\n"
     ]
    }
   ],
   "source": [
    "XX=[None]*2\n",
    "YY=[None]*2\n",
    "for i in range(2):\n",
    "    XX[i]=X.iloc[i*196:(i+1)*196,:]\n",
    "    YY[i]=Y.iloc[i*196:(i+1)*196,:]\n",
    "print(XX[0].shape,XX[1].shape,YY[0].shape,YY[1].shape)\n",
    "print(YY[0].head(10))\n",
    "print(YY[1].head(10))"
   ]
  },
  {
   "cell_type": "code",
   "execution_count": 82,
   "metadata": {},
   "outputs": [],
   "source": [
    "def get_split_8020():\n",
    "    TRAIN_y = TRAIN_x = test_y = test_x = pd.DataFrame()\n",
    "    for i in range(2):\n",
    "        tmp_train_x, tmp_test_x, tmp_train_y, tmp_test_y = train_test_split(XX[i], YY[i], train_size=0.8)\n",
    "#         print(tmp_train_x.shape, tmp_test_x.shape, tmp_train_y.shape, tmp_test_y.shape)\n",
    "        TRAIN_x = TRAIN_x.append(tmp_train_x)\n",
    "        TRAIN_y = TRAIN_y.append(tmp_train_y)\n",
    "        test_x = test_x.append(tmp_test_x)\n",
    "        test_y = test_y.append(tmp_test_y)\n",
    "    print(TRAIN_y.shape,TRAIN_x.shape,test_y.shape,test_x.shape)\n",
    "    return TRAIN_x, test_x, TRAIN_y, test_y"
   ]
  },
  {
   "cell_type": "code",
   "execution_count": 83,
   "metadata": {},
   "outputs": [],
   "source": [
    "def split_80_into_4040(TRAIN_x0, TRAIN_x1,TRAIN_y0, TRAIN_y1):\n",
    "    tx40=ty40=cx40=cy40=pd.DataFrame()\n",
    "    tx_0,cx_0,ty_0,cy_0=train_test_split(TRAIN_x0, TRAIN_y0, train_size=0.5)\n",
    "    tx40=tx40.append(tx_0)\n",
    "    ty40=ty40.append(ty_0)\n",
    "    cx40=cx40.append(cx_0)\n",
    "    cy40=cy40.append(cy_0)\n",
    "    tx_0,cx_0,ty_0,cy_0=train_test_split(TRAIN_x1, TRAIN_y1, train_size=0.5)\n",
    "    tx40=tx40.append(tx_0)\n",
    "    ty40=ty40.append(ty_0)\n",
    "    cx40=cx40.append(cx_0)\n",
    "    cy40=cy40.append(cy_0)\n",
    "    return tx40,cx40,ty40,cy40"
   ]
  },
  {
   "cell_type": "code",
   "execution_count": 84,
   "metadata": {},
   "outputs": [
    {
     "name": "stdout",
     "output_type": "stream",
     "text": [
      "(312, 1) (312, 9) (80, 1) (80, 9)\n",
      "(312, 9) (80, 9) (312, 1) (80, 1)\n"
     ]
    }
   ],
   "source": [
    "TRAIN_x, test_x, TRAIN_y, test_y = get_split_8020()\n",
    "print(TRAIN_x.shape, test_x.shape, TRAIN_y.shape, test_y.shape)"
   ]
  },
  {
   "cell_type": "code",
   "execution_count": 85,
   "metadata": {},
   "outputs": [
    {
     "name": "stdout",
     "output_type": "stream",
     "text": [
      "(156, 9) (156, 9) (156, 1) (156, 1)\n"
     ]
    }
   ],
   "source": [
    "train_x=[None]*2\n",
    "train_y=[None]*2\n",
    "train_x[0], train_x[1], train_y[0], train_y[1] = split_80_into_4040(TRAIN_x.iloc[0:156,:],TRAIN_x.iloc[156:312,:],TRAIN_y.iloc[0:156,:],TRAIN_y.iloc[156:312,:])\n",
    "print(train_x[0].shape, train_x[1].shape,train_y[0].shape, train_y[1].shape)"
   ]
  },
  {
   "cell_type": "code",
   "execution_count": 95,
   "metadata": {},
   "outputs": [],
   "source": [
    "params = [{'solver': 'sgd', 'learning_rate': 'constant', 'momentum': 0,\n",
    "           'learning_rate_init': 0.01},\n",
    "          {'solver': 'sgd', 'learning_rate': 'constant', 'momentum': .9,\n",
    "           'nesterovs_momentum': False, 'learning_rate_init': 0.01},\n",
    "          {'solver': 'sgd', 'learning_rate': 'constant', 'momentum': .9,\n",
    "           'nesterovs_momentum': True, 'learning_rate_init': 0.01},\n",
    "          {'solver': 'sgd', 'learning_rate': 'invscaling', 'momentum': 0,\n",
    "           'learning_rate_init': 0.2},\n",
    "          {'solver': 'sgd', 'learning_rate': 'invscaling', 'momentum': .9,\n",
    "           'nesterovs_momentum': True, 'learning_rate_init': 0.01},\n",
    "          {'solver': 'sgd', 'learning_rate': 'invscaling', 'momentum': .9,\n",
    "           'nesterovs_momentum': False, 'learning_rate_init': 0.01},\n",
    "          {'solver': 'adam', 'learning_rate_init': 0.01},\n",
    "        ]\n",
    "\n",
    "labels = [\"constant learning-rate\", \"constant w/ mtm\",\n",
    "          \"constant w/ Nesterov's mtm\",\n",
    "          \"inv-scaling learning-rate\", \"inv-scaling w/ mtm\",\n",
    "          \"inv-scaling w/ Nesterov's mtm\", \"adam\"]\n",
    "color = ['lime', 'yellow', 'deepskyblue', 'darkred', 'navy', 'deeppink', 'peru']\n",
    "names = ['part 1', 'part 2']\n",
    "accur= []"
   ]
  },
  {
   "cell_type": "code",
   "execution_count": 114,
   "metadata": {},
   "outputs": [],
   "source": [
    "def plot_all_algorithms_on(train_x, train_y, test_x, test_y, name):\n",
    "    scaler=MinMaxScaler()\n",
    "    train_x = scaler.fit_transform(train_x)\n",
    "    test_x = scaler.transform(test_x)\n",
    "    train_y = np.ravel(train_y)\n",
    "    mlps=[]\n",
    "    accur = []\n",
    "    max_iter=500\n",
    "    for param,label,i in zip(params,labels,range(len(params))):\n",
    "        mlp=MLPClassifier(hidden_layer_sizes=(20, 20),**param,max_iter=max_iter, )\n",
    "        with warnings.catch_warnings():\n",
    "            warnings.filterwarnings(\"ignore\", category=ConvergenceWarning,module=\"sklearn\")\n",
    "            mlp.fit(train_x, train_y)\n",
    "            prediction = mlp.predict(test_x)\n",
    "            dic[\"Training data accuracy \"+str(z+1)].append(metrics.confusion_matrix(train_y, mlp.predict(train_x)))\n",
    "            accu=metrics.confusion_matrix(test_y, prediction)\n",
    "            dic[\"Testing Set Accuracy \"+str(z+1)].append(accu)\n",
    "        accur.append(accu)  \n",
    "        mlps.append(mlp)\n"
   ]
  },
  {
   "cell_type": "code",
   "execution_count": 115,
   "metadata": {},
   "outputs": [],
   "source": [
    "dic = {\"Algorithm\":[], \"Training data accuracy 1\":[], \"Training data accuracy 2\":[], \"Testing Set Accuracy 1\":[], \"Testing Set Accuracy 2\":[], }\n",
    "dic[\"Algorithm\"] =   [\"constant learning-rate\", \"constant w/ mtm\",\n",
    "                      \"constant w/ Nesterov's mtm\",\n",
    "                      \"inv-scaling learning-rate\", \"inv-scaling w/ mtm\",\n",
    "                      \"inv-scaling w/ Nesterov's mtm\", \"adam\"]\n",
    "ds=[(train_x[0], train_y[0], train_x[1], train_y[1]), (train_x[1], train_y[1], train_x[0], train_y[0])]\n",
    "z=0\n",
    "for d, name in zip(ds, names):\n",
    "    plot_all_algorithms_on(*d, name)\n",
    "    z+=1\n",
    "df = (pd.DataFrame(data=dic))\n",
    "for i in (['Training data accuracy',  'Testing Set Accuracy']):\n",
    "    df[i] = (df[i+' 1']+df[i+' 2'])/2\n",
    "    df.drop(columns=[i+' 1', i+' 2'], inplace=True)"
   ]
  },
  {
   "cell_type": "code",
   "execution_count": 166,
   "metadata": {},
   "outputs": [
    {
     "data": {
      "image/png": "[encoded data removed]",
      "text/plain": [
       "<Figure size 1440x720 with 1 Axes>"
      ]
     },
     "metadata": {
      "needs_background": "light"
     },
     "output_type": "display_data"
    }
   ],
   "source": [
    "labels = df.iloc[:, 0].to_numpy()\n",
    "barlabel = ['True Positives','False Positives', 'True Negatives', 'False Negatives']\n",
    "accuracies = {}\n",
    "for i in range(4):\n",
    "    accuracies[barlabel[i]] = [x[int(i/2)][int(i%2)] for x in df.iloc[:, 1]]\n",
    "\n",
    "x = np.arange(len(labels))\n",
    "width = 0.8\n",
    "\n",
    "fig, ax = plt.subplots(figsize=(20, 10))\n",
    "rects = [None]*4\n",
    "for i, j in zip(range(4), accuracies):\n",
    "    rects[i] = ax.bar(x + (2*i-3)*width/8, accuracies[j], width=width/4, label=barlabel[i])\n",
    "ax.set_ylabel('Number of cases')\n",
    "ax.set_title('Algorithms performance on Training Data Accuracy')\n",
    "ax.set_xticks(x)\n",
    "ax.set_xticklabels(labels)\n",
    "ax.legend()\n",
    "\n",
    "def autolabel(rects):\n",
    "    for rect in rects:\n",
    "        height = rect.get_height()\n",
    "        ax.annotate('{}'.format(height),\n",
    "                    xy=(rect.get_x() + rect.get_width() / 2, height),\n",
    "                    xytext=(0, 3),  # 3 points vertical offset\n",
    "                    textcoords=\"offset points\",\n",
    "                    ha='center', va='bottom')\n",
    "\n",
    "for i in range(4):\n",
    "    autolabel(rects[i])\n",
    "\n",
    "fig.tight_layout()\n",
    "\n",
    "plt.show()"
   ]
  },
  {
   "cell_type": "code",
   "execution_count": null,
   "metadata": {},
   "outputs": [],
   "source": []
  }
 ],
 "metadata": {
  "kernelspec": {
   "display_name": "Python 3",
   "language": "python",
   "name": "python3"
  },
  "language_info": {
   "codemirror_mode": {
    "name": "ipython",
    "version": 3
   },
   "file_extension": ".py",
   "mimetype": "text/x-python",
   "name": "python",
   "nbconvert_exporter": "python",
   "pygments_lexer": "ipython3",
   "version": "3.6.10"
  }
 },
 "nbformat": 4,
 "nbformat_minor": 4
}
