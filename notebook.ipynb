{
 "cells": [
  {
   "cell_type": "markdown",
   "metadata": {},
   "source": [
    "# Breast Cancer Recurrence Detection"
   ]
  },
  {
   "cell_type": "markdown",
   "metadata": {},
   "source": [
    "- Number of Instances: 286\n",
    "\n",
    "- Number of Attributes: 9 + the class attribute\n",
    "\n",
    "- Attribute Information:\n",
    "   1. Class: no-recurrence-events, recurrence-events\n",
    "   2. age: 10-19, 20-29, 30-39, 40-49, 50-59, 60-69, 70-79, 80-89, 90-99.\n",
    "   3. menopause: lt40, ge40, premeno.\n",
    "   4. tumor-size: 0-4, 5-9, 10-14, 15-19, 20-24, 25-29, 30-34, 35-39, 40-44,\n",
    "                  45-49, 50-54, 55-59.\n",
    "   5. inv-nodes: 0-2, 3-5, 6-8, 9-11, 12-14, 15-17, 18-20, 21-23, 24-26,\n",
    "                 27-29, 30-32, 33-35, 36-39.\n",
    "   6. node-caps: yes, no.\n",
    "   7. deg-malig: 1, 2, 3.\n",
    "   8. breast: left, right.\n",
    "   9. breast-quad: left-up, left-low, right-up,\tright-low, central.\n",
    "  10. irradiat:\tyes, no.\n",
    "\n",
    "- Missing Attribute Values: (denoted by \"?\")\n",
    "   Attribute #:  Number of instances with missing values:\n",
    "   6.             8\n",
    "   9.             1.\n",
    "\n",
    "- Class Distribution:\n",
    "    1. no-recurrence-events: 201 instances\n",
    "    2. recurrence-events: 85 instances"
   ]
  },
  {
   "cell_type": "code",
   "execution_count": 1,
   "metadata": {},
   "outputs": [],
   "source": [
    "import pandas as pd"
   ]
  },
  {
   "cell_type": "code",
   "execution_count": 2,
   "metadata": {},
   "outputs": [
    {
     "name": "stdout",
     "output_type": "stream",
     "text": [
      "no-recurrence-events    201\n",
      "recurrence-events        85\n",
      "Name: recurrence-events, dtype: int64\n",
      "50-59    96\n",
      "40-49    90\n",
      "60-69    57\n",
      "30-39    36\n",
      "70-79     6\n",
      "20-29     1\n",
      "Name: average-age, dtype: int64\n",
      "premeno    150\n",
      "ge40       129\n",
      "lt40         7\n",
      "Name: menopausal-state, dtype: int64\n",
      "30-34     60\n",
      "25-29     54\n",
      "20-24     50\n",
      "15-19     30\n",
      "Oct-14    28\n",
      "40-44     22\n",
      "35-39     19\n",
      "50-54      8\n",
      "0-4        8\n",
      "05-Sep     4\n",
      "45-49      3\n",
      "Name: tumor-size, dtype: int64\n",
      "0-2       213\n",
      "03-May     36\n",
      "06-Aug     17\n",
      "09-Nov     10\n",
      "15-17       6\n",
      "Dec-14      3\n",
      "24-26       1\n",
      "Name: average-inv-nodes, dtype: int64\n",
      "no     222\n",
      "yes     56\n",
      "?        8\n",
      "Name: node-caps, dtype: int64\n",
      "2    130\n",
      "3     85\n",
      "1     71\n",
      "Name: deg-malig, dtype: int64\n",
      "left     152\n",
      "right    134\n",
      "Name: breast, dtype: int64\n",
      "left_low     110\n",
      "left_up       97\n",
      "right_up      33\n",
      "right_low     24\n",
      "central       21\n",
      "?              1\n",
      "Name: breast-quad, dtype: int64\n",
      "no     218\n",
      "yes     68\n",
      "Name: irradiate, dtype: int64\n"
     ]
    }
   ],
   "source": [
    "df = pd.read_csv('breast-cancer.csv', names=['recurrence-events', 'average-age', 'menopausal-state', 'tumor-size', 'average-inv-nodes', 'node-caps', 'deg-malig', 'breast', 'breast-quad', 'irradiate'], index_col=False)\n",
    "for c_name in df.columns:\n",
    "    print(df[c_name].value_counts())"
   ]
  },
  {
   "cell_type": "markdown",
   "metadata": {},
   "source": [
    "#### Fixing corrupted data"
   ]
  },
  {
   "cell_type": "code",
   "execution_count": 3,
   "metadata": {},
   "outputs": [],
   "source": [
    "df['tumor-size'].replace({'Oct-14' : '10-14', '05-Sep':'5-9'}, inplace=True)\n",
    "df['average-inv-nodes'].replace({'03-May':'3-5', '06-Aug':'6-10', '09-Nov':'9-11', 'Dec-14':'10-14'}, inplace=True)"
   ]
  },
  {
   "cell_type": "code",
   "execution_count": 4,
   "metadata": {},
   "outputs": [
    {
     "name": "stdout",
     "output_type": "stream",
     "text": [
      "no     222\n",
      "yes     56\n",
      "?        8\n",
      "Name: node-caps, dtype: int64\n",
      "left_low     106\n",
      "left_up       94\n",
      "right_up      33\n",
      "right_low     23\n",
      "central       21\n",
      "?              1\n",
      "Name: breast-quad, dtype: int64\n"
     ]
    }
   ],
   "source": [
    "for column in ['node-caps', 'breast-quad']:\n",
    "    filt = (df[column] == '?')\n",
    "    print(df[column].value_counts())\n",
    "    df.drop(index=df[filt].index, inplace=True)"
   ]
  },
  {
   "cell_type": "markdown",
   "metadata": {},
   "source": [
    "#### Visualising The Dataset"
   ]
  },
  {
   "cell_type": "code",
   "execution_count": null,
   "metadata": {},
   "outputs": [],
   "source": []
  },
  {
   "cell_type": "markdown",
   "metadata": {},
   "source": [
    "#### Replacing ranges with values that can be fed into the nueral networks"
   ]
  },
  {
   "cell_type": "code",
   "execution_count": 5,
   "metadata": {},
   "outputs": [],
   "source": [
    "df['recurrence-events'].replace({'recurrence-events' : 1, 'no-recurrence-events' : 0}, inplace=True)\n",
    "df['menopausal-state'].replace({'premeno': 0, 'ge40':1, 'lt40':2}, inplace=True)\n",
    "df['node-caps'].replace({'no':0, 'yes':1}, inplace=True)\n",
    "df['breast'].replace({'left':0, 'right':1}, inplace=True)\n",
    "df['breast-quad'].replace({'left_low':0, 'left_up':1, 'right_low':2, 'right_up':3, 'central':4}, inplace=True)\n",
    "df['irradiate'].replace({'no':0, 'yes':1}, inplace=True)"
   ]
  },
  {
   "cell_type": "code",
   "execution_count": 6,
   "metadata": {},
   "outputs": [],
   "source": [
    "def avg(s):\n",
    "    i, j = map(int, s.split('-'))\n",
    "    return (i+j)/2\n",
    "for k in ['average-age', 'tumor-size', 'average-inv-nodes']:\n",
    "    df[k] = df[k].apply(avg)"
   ]
  },
  {
   "cell_type": "code",
   "execution_count": 7,
   "metadata": {},
   "outputs": [
    {
     "name": "stdout",
     "output_type": "stream",
     "text": [
      "0    196\n",
      "1     81\n",
      "Name: recurrence-events, dtype: int64\n",
      "54.5    91\n",
      "44.5    89\n",
      "64.5    55\n",
      "34.5    36\n",
      "74.5     5\n",
      "24.5     1\n",
      "Name: average-age, dtype: int64\n",
      "0    149\n",
      "1    123\n",
      "2      5\n",
      "Name: menopausal-state, dtype: int64\n",
      "32.0    57\n",
      "27.0    51\n",
      "22.0    48\n",
      "17.0    29\n",
      "12.0    28\n",
      "42.0    22\n",
      "37.0    19\n",
      "52.0     8\n",
      "2.0      8\n",
      "7.0      4\n",
      "47.0     3\n",
      "Name: tumor-size, dtype: int64\n",
      "1.0     209\n",
      "4.0      34\n",
      "8.0      17\n",
      "10.0      7\n",
      "16.0      6\n",
      "12.0      3\n",
      "25.0      1\n",
      "Name: average-inv-nodes, dtype: int64\n",
      "0    221\n",
      "1     56\n",
      "Name: node-caps, dtype: int64\n",
      "2    129\n",
      "3     82\n",
      "1     66\n",
      "Name: deg-malig, dtype: int64\n",
      "0    145\n",
      "1    132\n",
      "Name: breast, dtype: int64\n",
      "0    106\n",
      "1     94\n",
      "3     33\n",
      "2     23\n",
      "4     21\n",
      "Name: breast-quad, dtype: int64\n",
      "0    215\n",
      "1     62\n",
      "Name: irradiate, dtype: int64\n"
     ]
    }
   ],
   "source": [
    "for c_name in df.columns:\n",
    "    print(df[c_name].value_counts())"
   ]
  }
 ],
 "metadata": {
  "kernelspec": {
   "display_name": "Python 3",
   "language": "python",
   "name": "python3"
  },
  "language_info": {
   "codemirror_mode": {
    "name": "ipython",
    "version": 3
   },
   "file_extension": ".py",
   "mimetype": "text/x-python",
   "name": "python",
   "nbconvert_exporter": "python",
   "pygments_lexer": "ipython3",
   "version": "3.7.6"
  }
 },
 "nbformat": 4,
 "nbformat_minor": 4
}
